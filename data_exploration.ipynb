{
 "cells": [
  {
   "cell_type": "code",
   "execution_count": 2,
   "metadata": {},
   "outputs": [],
   "source": [
    "from pathlib import Path\n",
    "\n",
    "import re\n",
    "import nltk\n",
    "import pandas as pd\n",
    "from nltk.corpus import stopwords\n",
    "from nltk.stem.porter import PorterStemmer\n",
    "from bs4 import BeautifulSoup\n",
    "\n",
    "\n",
    "import libs.commons as commons"
   ]
  },
  {
   "cell_type": "code",
   "execution_count": 3,
   "metadata": {},
   "outputs": [],
   "source": [
    "train_path = Path(commons.dataset_path) / \"train.csv\"\n",
    "\n",
    "train_set = pd.read_csv(train_path)"
   ]
  },
  {
   "cell_type": "code",
   "execution_count": 4,
   "metadata": {},
   "outputs": [],
   "source": [
    "train_set['text_len'] = train_set['text'].apply(len)"
   ]
  },
  {
   "cell_type": "code",
   "execution_count": 5,
   "metadata": {},
   "outputs": [
    {
     "output_type": "execute_result",
     "data": {
      "text/plain": "   id keyword location                                               text  \\\n0   1     NaN      NaN  Our Deeds are the Reason of this #earthquake M...   \n1   4     NaN      NaN             Forest fire near La Ronge Sask. Canada   \n2   5     NaN      NaN  All residents asked to 'shelter in place' are ...   \n3   6     NaN      NaN  13,000 people receive #wildfires evacuation or...   \n4   7     NaN      NaN  Just got sent this photo from Ruby #Alaska as ...   \n\n   target  text_len  \n0       1        69  \n1       1        38  \n2       1       133  \n3       1        65  \n4       1        88  ",
      "text/html": "<div>\n<style scoped>\n    .dataframe tbody tr th:only-of-type {\n        vertical-align: middle;\n    }\n\n    .dataframe tbody tr th {\n        vertical-align: top;\n    }\n\n    .dataframe thead th {\n        text-align: right;\n    }\n</style>\n<table border=\"1\" class=\"dataframe\">\n  <thead>\n    <tr style=\"text-align: right;\">\n      <th></th>\n      <th>id</th>\n      <th>keyword</th>\n      <th>location</th>\n      <th>text</th>\n      <th>target</th>\n      <th>text_len</th>\n    </tr>\n  </thead>\n  <tbody>\n    <tr>\n      <th>0</th>\n      <td>1</td>\n      <td>NaN</td>\n      <td>NaN</td>\n      <td>Our Deeds are the Reason of this #earthquake M...</td>\n      <td>1</td>\n      <td>69</td>\n    </tr>\n    <tr>\n      <th>1</th>\n      <td>4</td>\n      <td>NaN</td>\n      <td>NaN</td>\n      <td>Forest fire near La Ronge Sask. Canada</td>\n      <td>1</td>\n      <td>38</td>\n    </tr>\n    <tr>\n      <th>2</th>\n      <td>5</td>\n      <td>NaN</td>\n      <td>NaN</td>\n      <td>All residents asked to 'shelter in place' are ...</td>\n      <td>1</td>\n      <td>133</td>\n    </tr>\n    <tr>\n      <th>3</th>\n      <td>6</td>\n      <td>NaN</td>\n      <td>NaN</td>\n      <td>13,000 people receive #wildfires evacuation or...</td>\n      <td>1</td>\n      <td>65</td>\n    </tr>\n    <tr>\n      <th>4</th>\n      <td>7</td>\n      <td>NaN</td>\n      <td>NaN</td>\n      <td>Just got sent this photo from Ruby #Alaska as ...</td>\n      <td>1</td>\n      <td>88</td>\n    </tr>\n  </tbody>\n</table>\n</div>"
     },
     "metadata": {},
     "execution_count": 5
    }
   ],
   "source": [
    "train_set.head()"
   ]
  },
  {
   "cell_type": "code",
   "execution_count": 6,
   "metadata": {},
   "outputs": [
    {
     "output_type": "execute_result",
     "data": {
      "text/plain": "                     id  location  text  target  text_len\nkeyword                                                  \nablaze               36        29    36      36        36\naccident             35        28    35      35        35\naftershock           34        25    34      34        34\nairplane%20accident  35        29    35      35        35\nambulance            38        26    38      38        38\n...                  ..       ...   ...     ...       ...\nwounded              37        27    37      37        37\nwounds               33        27    33      33        33\nwreck                37        27    37      37        37\nwreckage             39        28    39      39        39\nwrecked              39        22    39      39        39\n\n[221 rows x 5 columns]",
      "text/html": "<div>\n<style scoped>\n    .dataframe tbody tr th:only-of-type {\n        vertical-align: middle;\n    }\n\n    .dataframe tbody tr th {\n        vertical-align: top;\n    }\n\n    .dataframe thead th {\n        text-align: right;\n    }\n</style>\n<table border=\"1\" class=\"dataframe\">\n  <thead>\n    <tr style=\"text-align: right;\">\n      <th></th>\n      <th>id</th>\n      <th>location</th>\n      <th>text</th>\n      <th>target</th>\n      <th>text_len</th>\n    </tr>\n    <tr>\n      <th>keyword</th>\n      <th></th>\n      <th></th>\n      <th></th>\n      <th></th>\n      <th></th>\n    </tr>\n  </thead>\n  <tbody>\n    <tr>\n      <th>ablaze</th>\n      <td>36</td>\n      <td>29</td>\n      <td>36</td>\n      <td>36</td>\n      <td>36</td>\n    </tr>\n    <tr>\n      <th>accident</th>\n      <td>35</td>\n      <td>28</td>\n      <td>35</td>\n      <td>35</td>\n      <td>35</td>\n    </tr>\n    <tr>\n      <th>aftershock</th>\n      <td>34</td>\n      <td>25</td>\n      <td>34</td>\n      <td>34</td>\n      <td>34</td>\n    </tr>\n    <tr>\n      <th>airplane%20accident</th>\n      <td>35</td>\n      <td>29</td>\n      <td>35</td>\n      <td>35</td>\n      <td>35</td>\n    </tr>\n    <tr>\n      <th>ambulance</th>\n      <td>38</td>\n      <td>26</td>\n      <td>38</td>\n      <td>38</td>\n      <td>38</td>\n    </tr>\n    <tr>\n      <th>...</th>\n      <td>...</td>\n      <td>...</td>\n      <td>...</td>\n      <td>...</td>\n      <td>...</td>\n    </tr>\n    <tr>\n      <th>wounded</th>\n      <td>37</td>\n      <td>27</td>\n      <td>37</td>\n      <td>37</td>\n      <td>37</td>\n    </tr>\n    <tr>\n      <th>wounds</th>\n      <td>33</td>\n      <td>27</td>\n      <td>33</td>\n      <td>33</td>\n      <td>33</td>\n    </tr>\n    <tr>\n      <th>wreck</th>\n      <td>37</td>\n      <td>27</td>\n      <td>37</td>\n      <td>37</td>\n      <td>37</td>\n    </tr>\n    <tr>\n      <th>wreckage</th>\n      <td>39</td>\n      <td>28</td>\n      <td>39</td>\n      <td>39</td>\n      <td>39</td>\n    </tr>\n    <tr>\n      <th>wrecked</th>\n      <td>39</td>\n      <td>22</td>\n      <td>39</td>\n      <td>39</td>\n      <td>39</td>\n    </tr>\n  </tbody>\n</table>\n<p>221 rows × 5 columns</p>\n</div>"
     },
     "metadata": {},
     "execution_count": 6
    }
   ],
   "source": [
    "## Frequency of Keyword values\n",
    "# train_set.describe()\n",
    "# train_set['keyword'].nunique()\n",
    "key_group = train_set.groupby('keyword')\n",
    "key_group.count()"
   ]
  },
  {
   "cell_type": "code",
   "execution_count": 7,
   "metadata": {},
   "outputs": [
    {
     "output_type": "execute_result",
     "data": {
      "text/plain": "                 id  keyword  text  target  text_len\nlocation                                            \nUSA             104      104   104     104       104\nNew York         71       71    71      71        71\nUnited States    50       50    50      50        50\nLondon           45       45    45      45        45\nCanada           29       29    29      29        29\n...             ...      ...   ...     ...       ...\nHueco Mundo       1        1     1       1         1\nHughes, AR        1        1     1       1         1\nHuntington, WV    1        1     1       1         1\nHuntley, IL       1        1     1       1         1\nåø\\_(?)_/åø       1        1     1       1         1\n\n[3341 rows x 5 columns]",
      "text/html": "<div>\n<style scoped>\n    .dataframe tbody tr th:only-of-type {\n        vertical-align: middle;\n    }\n\n    .dataframe tbody tr th {\n        vertical-align: top;\n    }\n\n    .dataframe thead th {\n        text-align: right;\n    }\n</style>\n<table border=\"1\" class=\"dataframe\">\n  <thead>\n    <tr style=\"text-align: right;\">\n      <th></th>\n      <th>id</th>\n      <th>keyword</th>\n      <th>text</th>\n      <th>target</th>\n      <th>text_len</th>\n    </tr>\n    <tr>\n      <th>location</th>\n      <th></th>\n      <th></th>\n      <th></th>\n      <th></th>\n      <th></th>\n    </tr>\n  </thead>\n  <tbody>\n    <tr>\n      <th>USA</th>\n      <td>104</td>\n      <td>104</td>\n      <td>104</td>\n      <td>104</td>\n      <td>104</td>\n    </tr>\n    <tr>\n      <th>New York</th>\n      <td>71</td>\n      <td>71</td>\n      <td>71</td>\n      <td>71</td>\n      <td>71</td>\n    </tr>\n    <tr>\n      <th>United States</th>\n      <td>50</td>\n      <td>50</td>\n      <td>50</td>\n      <td>50</td>\n      <td>50</td>\n    </tr>\n    <tr>\n      <th>London</th>\n      <td>45</td>\n      <td>45</td>\n      <td>45</td>\n      <td>45</td>\n      <td>45</td>\n    </tr>\n    <tr>\n      <th>Canada</th>\n      <td>29</td>\n      <td>29</td>\n      <td>29</td>\n      <td>29</td>\n      <td>29</td>\n    </tr>\n    <tr>\n      <th>...</th>\n      <td>...</td>\n      <td>...</td>\n      <td>...</td>\n      <td>...</td>\n      <td>...</td>\n    </tr>\n    <tr>\n      <th>Hueco Mundo</th>\n      <td>1</td>\n      <td>1</td>\n      <td>1</td>\n      <td>1</td>\n      <td>1</td>\n    </tr>\n    <tr>\n      <th>Hughes, AR</th>\n      <td>1</td>\n      <td>1</td>\n      <td>1</td>\n      <td>1</td>\n      <td>1</td>\n    </tr>\n    <tr>\n      <th>Huntington, WV</th>\n      <td>1</td>\n      <td>1</td>\n      <td>1</td>\n      <td>1</td>\n      <td>1</td>\n    </tr>\n    <tr>\n      <th>Huntley, IL</th>\n      <td>1</td>\n      <td>1</td>\n      <td>1</td>\n      <td>1</td>\n      <td>1</td>\n    </tr>\n    <tr>\n      <th>åø\\_(?)_/åø</th>\n      <td>1</td>\n      <td>1</td>\n      <td>1</td>\n      <td>1</td>\n      <td>1</td>\n    </tr>\n  </tbody>\n</table>\n<p>3341 rows × 5 columns</p>\n</div>"
     },
     "metadata": {},
     "execution_count": 7
    }
   ],
   "source": [
    "## Frequency of Keyword values\n",
    "loc_group = train_set.groupby('location')\n",
    "loc_group.count().sort_values(by='id', ascending=False)"
   ]
  },
  {
   "cell_type": "code",
   "execution_count": 8,
   "metadata": {
    "tags": []
   },
   "outputs": [
    {
     "output_type": "execute_result",
     "data": {
      "text/plain": "                                 id  keyword  location  text  target  text_len\nlocation_clean                                                                \nnan                            2533     2472         0  2533    2533      2533\nusa                             104      104       104   104     104       104\nnew york                         75       75        75    75      75        75\nunited states                    50       50        50    50      50        50\nlondon                           49       49        49    49      49        49\n...                             ...      ...       ...   ...     ...       ...\nhaiku, maui, hawaii               1        1         1     1       1         1\nhailing from dayton               1        1         1     1       1         1\nhalfrica                          1        1         1     1       1         1\nhalifax, nouvelle-ìäcosse         1        1         1     1       1         1\nìøåàå_t: 40.736324,-73.990062     1        1         1     1       1         1\n\n[3234 rows x 6 columns]",
      "text/html": "<div>\n<style scoped>\n    .dataframe tbody tr th:only-of-type {\n        vertical-align: middle;\n    }\n\n    .dataframe tbody tr th {\n        vertical-align: top;\n    }\n\n    .dataframe thead th {\n        text-align: right;\n    }\n</style>\n<table border=\"1\" class=\"dataframe\">\n  <thead>\n    <tr style=\"text-align: right;\">\n      <th></th>\n      <th>id</th>\n      <th>keyword</th>\n      <th>location</th>\n      <th>text</th>\n      <th>target</th>\n      <th>text_len</th>\n    </tr>\n    <tr>\n      <th>location_clean</th>\n      <th></th>\n      <th></th>\n      <th></th>\n      <th></th>\n      <th></th>\n      <th></th>\n    </tr>\n  </thead>\n  <tbody>\n    <tr>\n      <th>nan</th>\n      <td>2533</td>\n      <td>2472</td>\n      <td>0</td>\n      <td>2533</td>\n      <td>2533</td>\n      <td>2533</td>\n    </tr>\n    <tr>\n      <th>usa</th>\n      <td>104</td>\n      <td>104</td>\n      <td>104</td>\n      <td>104</td>\n      <td>104</td>\n      <td>104</td>\n    </tr>\n    <tr>\n      <th>new york</th>\n      <td>75</td>\n      <td>75</td>\n      <td>75</td>\n      <td>75</td>\n      <td>75</td>\n      <td>75</td>\n    </tr>\n    <tr>\n      <th>united states</th>\n      <td>50</td>\n      <td>50</td>\n      <td>50</td>\n      <td>50</td>\n      <td>50</td>\n      <td>50</td>\n    </tr>\n    <tr>\n      <th>london</th>\n      <td>49</td>\n      <td>49</td>\n      <td>49</td>\n      <td>49</td>\n      <td>49</td>\n      <td>49</td>\n    </tr>\n    <tr>\n      <th>...</th>\n      <td>...</td>\n      <td>...</td>\n      <td>...</td>\n      <td>...</td>\n      <td>...</td>\n      <td>...</td>\n    </tr>\n    <tr>\n      <th>haiku, maui, hawaii</th>\n      <td>1</td>\n      <td>1</td>\n      <td>1</td>\n      <td>1</td>\n      <td>1</td>\n      <td>1</td>\n    </tr>\n    <tr>\n      <th>hailing from dayton</th>\n      <td>1</td>\n      <td>1</td>\n      <td>1</td>\n      <td>1</td>\n      <td>1</td>\n      <td>1</td>\n    </tr>\n    <tr>\n      <th>halfrica</th>\n      <td>1</td>\n      <td>1</td>\n      <td>1</td>\n      <td>1</td>\n      <td>1</td>\n      <td>1</td>\n    </tr>\n    <tr>\n      <th>halifax, nouvelle-ìäcosse</th>\n      <td>1</td>\n      <td>1</td>\n      <td>1</td>\n      <td>1</td>\n      <td>1</td>\n      <td>1</td>\n    </tr>\n    <tr>\n      <th>ìøåàå_t: 40.736324,-73.990062</th>\n      <td>1</td>\n      <td>1</td>\n      <td>1</td>\n      <td>1</td>\n      <td>1</td>\n      <td>1</td>\n    </tr>\n  </tbody>\n</table>\n<p>3234 rows × 6 columns</p>\n</div>"
     },
     "metadata": {},
     "execution_count": 8
    }
   ],
   "source": [
    "def clean_loc(x):\n",
    "    x = str(x)\n",
    "    if x:\n",
    "        return x.lower()\n",
    "    else:\n",
    "        return None\n",
    "\n",
    "train_proc = train_set.copy()\n",
    "train_proc['location_clean'] = train_proc['location'].apply(clean_loc)\n",
    "loc_group = train_proc.groupby('location_clean')\n",
    "loc_group.count().sort_values(by='id', ascending=False)"
   ]
  },
  {
   "cell_type": "code",
   "execution_count": 9,
   "metadata": {
    "tags": [
     "outputPrepend"
    ]
   },
   "outputs": [
    {
     "output_type": "stream",
     "name": "stdout",
     "text": "thern ireland\nnorthern kentucky, usa\nnorwalk, ct\nnorway\nnorwich\nnot a u.s resident\nnot los angeles, not new york.\nnot of this world\nnot so cool ky\nnot steven yeun / amc.\nnot where i want to be, yet\nnottingham\nnottingham, england\nnottingham, united kingdom\nnotts\nnova scotia, canada\nnovi, mi\nnowhere\nnowhere islands/smash manor\nnowhere. everywhere.\nnuma casa de old yellow bricks\nnumenor\nnunya\nnv\nny\nny capital district\nny || live easy? \nny, ct & greece\nny, ny\nnyc\nnyc / international\nnyc :) ex- #islamophobe\nnyc area\nnyc metro\nnyc&nj\nnyc, new york\nnyc,us - cali, colombia\nnyc-la-miami\nnyhc\noakland\noakland, ca\noblivion?\nocean city, nj\nodawara, japan\noes 4th point. sisstar & ti\nofficial website\nogba, lagos, nigeria\nohio\nohio, usa\nojodu,lagos\nok\nokanagan valley, bc\noklahoma\noklahoma city\noklahoma city, ok\noklahoma, usa\nokuma town, fukushima\nolathe, ks\nold blighty\noldenburg // london\nolympia, wa\noman muscat al seeb \non\non a beach \non a catwalk somewhere\non the court \non the go\non the toilet having a dump \non the web\non to the next adventure\non twitter\non twitter \nona block w/ my boy ??\nondo\none world\noneonta, ny/ staten island, ny\nonline \nonline 24/7. not even kidding.\nontario\nontario canada\nontario, canada\nontario, canada. \norange county, ca\norange county, calif.\norange county, california\norange county, ny\norbost, victoria, australia\noregon\noregon and washington\noregon, usa\norlando\norlando \norlando, fl\norlando,fl  usa\norlando/cocoa beach, fl\norm\normond by the sea, fl\noshawa, canada\noshawa/toronto\noslo, norway\notsego, mi\nottawa, canada\nottawa, ontario\nottawa,ontario canada\nour empire state\noutside the matrix, i think.\nover the moon...\noverland park, ks\noverton nv\nown planet!!\noxford\noxford / bristol\noxford, ms\noxford, oh\npa\npa, usa\npa.usa\npacific northwest\npaducah, ky\npaignton\npakistan\npakistan, islamabad\npalermo, sicily\npalestine \npalestine texas\npalm bay, fl (kissimmee)\npalm beach county, fl\npalm desert, ca\npalma, islas baleares\npalmyra, nj\npalo alto, ca\npalo alto, california\npaname city\npanamìá \npaonia, colorado \nparachute\nparadise\nparadise city\nparadise, nv\nparanaque city\nparis\nparis \nparis (france)\nparis, france\nparis.\npark ridge, illinois\npassamaquoddy\npaterson, new jersey \npatra-greece.\npaulton, england\npawnee\npdx\npedophile hunting ground\npeekskill. new york, 10566 \npekanbaruå¡batam islandå¡medan\npelham, al\npembroke nh\npenn hills, pa\npennsylvania\npennsylvania, pa\npennsylvania, usa\npensacola, fl\npeoria\nperenjori, wa\nperth, australia\nperth, australia \nperth, western australia\nperthshire \nperu\npeshawar\npeshawar pakistan \npetaluma, ca\npeterborough, on\npeterborough, ont.\npeterborough, ontario, canada\npettyville, usa\npg chillin!\npg county, md\nph\nphila.\nphiladelphia\nphiladelphia, pa\nphiladelphia, pa \nphiladelphia, pa usa\nphiladelphia, pennsylvania\nphiladelphia, pennsylvania usa\nphilippines\nphilippines \nphilly\nphilly \nphoenix\nphoenix az\nphoenix, arizona, usa\nphoenix, az\nphoto : blue mountains \nphuket thailand\npiedmont area, north carolina\npiedmont triad, nc\npig symbol, alabama\npioneer village, ky\npissing off antis\npittsboro\npittsburgh\npittsburgh \npittsburgh pa\nplain o' texas\nplanet earth\nplanet eyal, shandral system\nplanet of da bathing apes\nplaneta h2o\nplano, il\nplano, texas\nplano,tx\nplay for ryan ??\nplaya\nplaya del carmen, mexico\nplaying soccer & eating pizza\npleasanton, ca\nplease h? ?:??\nplfd cuh..\npluto\nplymouth\npocatello, id\npocatello, idaho\npoconos\npoffin\npolmont \npomfret/providence\npompano beach, fl\npon di gully\npontefract uk\npontevedra, galicia\npoplar, london\nport charlotte, fl\nport harcourt, nigeria\nport jervis, ny\nport matilda pa\nport orange, fl\nport williams ns\nportage, in / worldwide\nporthcawl\nportland, or\nportland, ore. \nportland, oregon\nporto alegre, rio grande do sul\nportoviejo-manabi-ecuador\nportsmouth, uk\nportsmouth, va\nportugal\npositive 852\npotters bar\npratt-on-wye\npredjama, eslovenia.\nprehistoric earth\npretoria\nprimum non nocere\nprincipality of zeron\npro-american and anti-#occupy\nprob turning up with sheen\nprobably not home\nprobably petting an animal\nprobably the strip club\nprobably watching survivor\nproud @buckmasonusa supporter!\nproud indians\nproudly canadian!\nproudly frozen canuck eh !!\nproudly south african\nprov\nprovidence ri / lisnaskea \nps4, now stop asking\npsa nursing \npsn: pipbois \npueblo, co\npueblo, colorado\npuerto rico\npune, maharashtra\npune, mostly \npunjab\npunpunlì¢ndia\npurfleet\npurgatory, usa\npurple booth studioã¢\nqld australia\nqosqo\nquantico, va\nqueen creek az\nqueens new york\nqueens, ny\nqueens.\nqueensland\nqueensland, australia\nquezon city, philippines\nquilmes , arg\nquincy\nquincy ma\nquito, ecuador.\nr'lyeh, south pacific\nrafael castillo\nraleigh (garner/cleveland) nc\nraleigh durham, nc\nraleigh, nc\nrapid city, black hills, sd\nrapid city, south dakota\nreading a romance novel\nreading ma\nreading uk\nreality\nrealville\nredding, california, usa\nreddit\nreddit \nredondo beach, ca\nregalo island\nrenfrew, scotland\nrepublic of texas\nrepublic of the philippines\nrepublica dominicana\nreston, va, usa\nrheinbach / germany\nrhode island\nrhodeisland\nrhyme or reason?\nrichardson tx\nrichmond heights, oh\nrichmond, va\nright here\nright next to compton\nright next to you\nrio\nrio de janeiro\nrio de janeiro | brazil\nriverdale, ga \nriverside, ca\nriverside, california.\nriverview, fl \nriyadh\nriyadh ')\nroads/trails everywhere\nroadside\nroaming around the world\nroanoke va\nroanoke, va\nrobin hood's county \nrochelle, ga\nrochester\nrochester hills, mi\nrochester, ny\nrock hill, sc\nrock springs, wy\nrocketing through the galaxy\nrockford, il\nrockland county, ny\nrockville, maryland\nrocky mountains\nrogersville, mo\nromania\nrome\nrome, italy\nroom 234\nroppongi, minato, tokyo \nrotterdam, the netherlands\nrotterdam, zuid-holland\nrowyso dallas \nroyton\nrsn: tru\nrural northern nevada\nrural ohio (fuck)\nrussia\nrutherfordton, nc\nrzl ?\ns.f. bay area\nsacae plains\nsacramento\nsacramento, ca\nsacramento, california\nsaint louis, missouri\nsaint lucia\nsaint marys, ga\nsaint paul\nsaipan, cnmi\nsale, england\nsaline, mi\nsalt lake city, ut\nsalt lake city, utah\nsaltillo, coahuila de zaragoza\nsan antonio, tx\nsan antonio-ish, tx\nsan diego\nsan diego ca\nsan diego california 92101\nsan diego, ca\nsan diego, calif.\nsan diego, california\nsan diego, texas.\nsan francisco\nsan francisco , ca\nsan francisco bay area\nsan francisco, ca\nsan fransokyo\nsan gabriel la union\nsan jose\nsan jose, ca\nsan jose, ca, usa\nsan jose, california\nsan juan, puerto rico\nsan luis obispo, ca\nsan mateo county, ca\nsand springs oklahoma\nsandton, south africa\nsanganer, rajasthan\nsanta clara, ca\nsanta cruz, ca\nsanta maria, ca\nsanta monica, ca\nsantiago bernabeau\nsantiago de chile\nsantiago de cmpostela galicia\nsantiago,repì¼blica dominicana\nsanto domingo\nsanto domingo alma rosa \nsao paulo\nsao paulo, brazil\nsarasota, fl\nsaskatchewan, canada\nsatan's colon\nsaudi arabia\nsaudi arabia - riyadh \nsavage states of america\nsavannah, ga\nscandinavia\nscituate, ma\nscore more goals buying @\nscore team goals buying @\nscotland\nscotland \nscotland, united kingdom\nscotts valley, ca\nscottsdale, az\nscottsdale. az\nscrewston, tx\nscumbernauld\nsd |norway| ksa\nse london(heart is by the sea)\nsea server\nsearching for bae \nseattle\nseattle grace mercy death\nseattle native in prescott, az\nseattle wa\nseattle, wa\nseattle, wa usa\nseattle, washington\nsec country\nsee the barn of bleakness\nselangor\nselena | britney | hilary\nselma2oakland\nsemarang, indonesia\nseoul\nserva fidem\nsevier county.\nsf bay area\nsf bay area, california / greater phoenix, az\nshady pines \nshah alam,malaysia\nshanghai\nsharkatraz/bindle's cleft, pa\nshe/her/your majesty/empress\nsheff/bangor/salamanca/madrid\nsheffield // rotherham\nsheffield township, ohio\nsheffield/leeds\nshelby county\nsherwood, brisbane, australia\nshipwreck cove\nshirley, ny\nshity land of northern ireland\nshoujo hell \nshrewsbury\nsicamous, british columbia\nsilang, cavite / paraì±aque\nsilesia, poland\nsilicon valley\nsilver spring, md\nsilvermoon or ironforge\nsindria\nsingapore\nsioux falls, s.d. \nsioux falls, sd\nsisterhood\nsitting on eddie vedders lap,\nsitting on the fence, new york\nskyhold\nskyport de la rosa\nslappin and smackin \nslateport city, hoenn\nslatina,romania\nsligo and galway, ireland\nsmash manor/kanto\nsnapchat~ maddzz_babby \nsneaking glances at thancred\nsocal\nsochi, kda, ru\nsodak\nsomalia\nsome other mansion\nsome pum pum\nsome where\nsome where in this world\nsomecity, somerset, md\nsomeday i'll live in england. \nsomeplace living my life\nsomerset, uk\nsomewhere\nsomewhere \nsomewhere around you\nsomewhere between chicago & milwaukee\nsomewhere between here & there\nsomewhere else...\nsomewhere in cali \nsomewhere in china.\nsomewhere in indiana \nsomewhere in jersey\nsomewhere in portugal\nsomewhere in spain\nsomewhere in the canada\nsomewhere only we know ?\nsomewhere out there\nsomewhere outside\nsomewhere over a rainbow\nsomewhere powerbraking a chevy\nsomewhere too cold for me\nsomewhere usa \nsomewhere with clyde\nsoufside\nsoul somalia/body montreal\nsouth 37\nsouth africa\nsouth africa eastern cape\nsouth asia\nsouth bloomfield, oh\nsouth carolina\nsouth carolina, usa\nsouth central wales\nsouth east of u.k\nsouth florida\nsouth korea gmt+9\nsouth of d.c.\nsouth of heaven \nsouth pasadena, ca\nsouth stand\nsouth west, england\nsouth, england\nsouth, usa\nsoutheast asia\nsouthern califorina\nsouthern california\nsouthern california desert\nsouthern maine\nsouthwest, tx\nspain\nspain - china - latin america.\nspain but opa-locka, fl\nspare 'oom\nspeaking the truth in love\nspinning through time.\nspokane, wa\nspokane, washington\nspokane, washington 99206\nspring grove, il\nspring tx\nspying on your thoughts\nsri lanka\nsrinagar,kashmir\nss\nst austell, cornwall\nst charles, md\nst joseph de beauce\nst louis, mo\nst paul, mn\nst petersburgfl\nst. catharines, ontario\nst. john's, nl, canada\nst. joseph, minnesota\nst. louis\nst. louis mo.\nst. louis, missouri\nst. louis, mo\nst. patrick's purgatory\nst.cloud, mn\nst.louis county missouri \nstage with trey songz\nstaggering on tenement roofs\nstalybridge, tameside\nstamford & cork (& shropshire)\nstanford university\nstarling city\nstate college, pa\nstate of dreaming\nstate of georgia\nstateless global citizen\nstatesboro/vidalia\nstatute of limitations_\nstay fly?\nstay tuned ;) \nstill. ??s.a.n.d.o.s??\nstl ?nola\nstockholm, sweden\nstockton on tees teesside uk\nstorybrooke \nstorybrooke / the moors\nstowmarket\nstratford, ct\nstreet of dallas\nstudio\nsubconscious la\nsuburban detroit, michigan\nsugar land, tx\nsugarhouse, ut\nsuginami-ku, tokyo, japan\nsuitland\nsumter, sc\nsunbury, ohio\nsunny south florida \nsunnyvale, ca\nsunrise manor, nv\nsunshine coast, queensland\nsuplex city\nsurabaya\nsurrey & manchester\nsurrounded by weeaboos\nsurry hills, sydney\nsurulere lagos,home of swagg\nsutton, london uk\nsuva, fiji islands.\nswag francisco\nswan river\nswaning around\nsweden\nswindon\nswindon,england \nswinfo@dot.state.al.us\nswitzerland\nswmo\nsydney\nsydney & worldwide\nsydney australia\nsydney, australia\nsydney, new south wales\nsydney, nsw\nsylacauga, alabama\nsì£o luis\nsì£o paulo\nsì£o paulo sp,  brasil\nsì£o paulo, brasil\nt e x a s | wwat 8.24.14\nt-ville\ntaco bell\ntacoma,washington\ntafekop ga-matsepe\ntaken by piper curda\ntaking bath do not disturb\ntaking pain like pleasure\ntallahassee florida\ntallahassee, fl\ntama, iowa\ntampa\ntampa, fl\ntampa-st. petersburg, fl\ntamworth\ntarragona\ntaylor swift\nteam slytherin\ntechfish \nted&qz inc, ireland, europe\nteh internets\ntelangana\ntema,accra\ntemecula, ca\ntemporary towers\ntennessee\ntennessee, usa\ntennessee/gallifrey\nterlingua, texas\nterre haute, in\ntexas\ntexas \ntexas a&m university\ntexas af\ntexas, usa\ntexas-usaã¢ ?\ntexasss\nthailand\nthailand malaysia indonesia \nthane\nthanjavur\nthe 5th dimension. \nthe 6ix\nthe ?? below ???\nthe american wasteland (mv)\nthe azure cloud\nthe barn\nthe burrow\nthe canopy kingdom\nthe circle of life\nthe citadel, oldtown, westeros\nthe d\nthe dark\nthe desert\nthe desert of the real\nthe dirty d\nthe empire/first order\nthe epicenter, and beyond\nthe forever girl\nthe globe\nthe great state of maine \nthe great state of texas\nthe green and pleasant land.\nthe grey area\nthe hammock, fl, usa\nthe harbinger.\nthe howling\nthe insane asylum. \nthe internet\nthe internet & nyc\nthe internetz\nthe jewfnited state\nthe kingdom of fife, scotland\nthe land of mass stupidity\nthe land of new jersey. \nthe local dump\nthe low-cal calzone zone\nthe main \nthe meadow\nthe memesphere\nthe moon\nthe multiverse\nthe netherlands\nthe north\nthe orwellion police-state\nthe own zone layer \nthe p (south philly)\nthe peach state\nthe pig sty\nthe pumpkin carriage of dreams\nthe refrigerator \nthe road to success\nthe sanctuary network, rome\nthe shady hyenatown of finland\nthe shire\nthe shores of lake kilby\nthe south & westcoast \nthe sun's corona\nthe tardis\nthe triskelion\nthe uk\nthe universe\nthe void, u.s.a\nthe waystone inn\nthe web\nthe weird part of wonderland\nthe windy city\nthe windy plains of denver\nthe wood\nthe world\nthe world t.g.g / m.m.m \nthey/her\nthey/them\nthey/them \nthibodaux, la\nthird rock from the sun\nthis is paradise. relax. \nthornton  colorado\nthrissur\ntimaru district, new zealand\ntimeline kamu\ntipperary (long way) \ntips on my blog at\ntn\nto the right of you!\ntodaysbigstock.com\ntokyo\ntokyo & osaka\ntoledo\ntoledo, oh\ntonyj@centralizedhockey.com\ntoo far\ntop secret\ntop secret bunker \ntopeka, ks\ntornado alley, usa \ntoronto\ntoronto û¢ dallas\ntoronto, bob-lo, miami beach\ntoronto, canada\ntoronto, on\ntoronto, on, canada\ntoronto, ontario\ntoronto, worldwide \ntoronto-citizen of canada & us\ntorrance, ca\ntorry alvarez love forever ? ?\ntrackside california\ntractor land aka bristol\ntrancy manor\ntrapped in america\ntrapped in my conscience \ntravelling around the world \ntravelling to tae's pants\ntraverse city, mi\ntri state\ntri-cities, wash.\ntring \ntring, uk\ntrinidad & tobago\ntrinidad and tobago\ntrinity, bailiwick of jersey\ntripoli international airport\ntripsburg, ms.\ntrost district\ntrumann, arkansas\ntucson, arizona \ntucson, az\ntulalip, washington\ntulsa, ok\ntulsa, oklahoma\ntunbridge wells\nturkmenistan\nturner fenton\ntv5, philippines\ntwitch.tv/naturalemblem26\ntwitter lockout in progress\ntwitterville\ntwo up two down\ntx\ntyler, tx\ntìáchira - venezuela\nu.k.\nu.s\nu.s.\nu.s. northern virginia\nu.s.a\nu.s.a and canada\nu.s.a.   fema region 5\nu.s.a. - global members site\nuae,sharjah/ abudhabi\nuga '15 alumnus - economics \nuganda\nuk\nuk  & germany\nuk & ibiza\nuk great britain \nuk, republic of ireland and australia\nuk,singer,songwriter,?2 act\nukraine\nukraine and ireland\nunder santa barbara skies\nunder the blanket\nunite. bless. wallahi \nunited hoods of the globe\nunited kingdom\nunited kingdom,fraserburgh\nunited states\nunited states of america\nunited states where it's warm\nunites states\nuniversity heights, ohio\nuniversity of chicago\nuniversity of limerick\nuniversity of south florida\nuniversity of toronto\nunknown\nunknown \nunnamed city\nup a hill\nupper manhattan, new york\nupper st clair, pa\nuppsala, sweden\nupstairs.\nupstate new york\nuptown \nuruguay / westeros / gallifrey\nurì£nus\nus\nus, pa\nus-east-1a\nus-pr\nus: 44.414510,8.942499\nusa\nusa \nusa (formerly @usnoaagov)\nusa , az\nusa - canada - europe - asia\nusa, alabama\nusa, haiti, nepal\nusa, north dakota\nusa, wa\nusa/so florida via brooklyn ny\nusaov\nuse #tmw in tweets get #rt\nutah\nutah, usa\nutica ny\nuyo, akwa ibom state, nigeria\nv-rp @ozrp_ ?mv, au, r18+?\nva\nva beach, virginia\nvail valley\nvalle del sol\nvalparaiso \nvan buren, mo\nvancouver\nvancouver (hq) and worldwide\nvancouver bc\nvancouver canada\nvancouver usa\nvancouver, bc\nvancouver, bc, canada\nvancouver, bc.\nvancouver, british columbia\nvancouver, canada\nvancouver, colombie-britannique\nvaranasi\nvaries \nvcu\nvenezuela\nventura\nventura, ca\nvermont, usa\nvero beach , fl\nvery sw ca, usa....draenor\nvictoria mozì£o \nvictoria, australia, earth\nvictoria, bc\nvictoria, bc  canada\nvictoria, british columbia\nvictoria, canada\nvictoria, tx.\nvictorville, ca\nvidalia ga\nviejo\nvietnam\nvilnius\nvineyard\nvirginia\nvirginia, united states\nvirginia, usa\nvirgo supercluster\nvisit my youtube channel.\nvisit our  dedicated website @\nvista, ca\nviterbo bfa acting '18\nvitì_ria (es)\nvont island, lagos\nvoorhees, nj\nvì_a lìáctea\nvì_sterì´s, sweden\nw. nykae \nw.i.t.s academy\nwa state\nwaco tx\nwaco, texas\nwaddesdon\nwahpeton, nd\nwaialua, hawaii\nwailuku, maui\nwaistdeep, tx\nwakanda\nwakefield ma\nwakefield, west yorkshire\nwales\nwales, united kingdom\nwalker county, alabama\nwalking the tightrope\nwalthamstow, london\nwanderlust\nwandsworth, london\nwarm heart of africa\nwarrandyte, australia\nwarri\nwarsaw\nwarszawa\nwarwick, ri @dollarocracy also\nwashington\nwashington d.c.\nwashington dc\nwashington dc / nantes, france\nwashington state\nwashington, d.c.\nwashington, d.c. \nwashington, d.c., area\nwashington, dc\nwashington, dc & charlotte, nc\nwashington, dc 20009\nwashington, dc native\nwashington, krasnodar (russia)\nwashington, usa\nwashington,dc\nwasington, dc\nwatch those videos -\nwaterford mi\nwaterfront\nwaterloo, on\nwaterloo, ont\nwatertown, mass.\nwatford\nwaukesha, wi\nwausau, wisconsin\nwaverly, ia\nwe are global!\nwe're all mad here\nwe?it û¢ ixwin\nwebster, tx\nwellington\nwellington, new zealand\nwelt\nwema building\nwest\nwest africa\nwest bank, gaza strip\nwest chester, pa\nwest coast, cali usa\nwest coast, usa\nwest hollywood\nwest hollywood, ca\nwest lancashire, uk.\nwest midlands\nwest palm beach, florida\nwest richland, wa\nwest vancouver, b.c.\nwest virginia, usa\nwest wales\nwestchester\nwestend, puritan ave \nwesterland\nwestern new york\nwestern washington\nweston super mare\nwestside of philly 7? block??\nwestwestwestwestwestwestwest\nweyburn\nwhere ever i please\nwhere i need to be\nwhere i'm supposed to be\nwhere the money at\nwhere the wild things are\nwherever i'm needed\nwherever i'm sent\nwherever the $$$ at\nwherever there's netflix\nwherever-the-fuck washington\nwhippany, nj\nwhitby, on\nwhite plains, ny\nwhiterun, skyrim\nwhole world \nwhs '17\nwhy should you know?\nwilbraham, ma\nwild wild web\nwildomar, ca\nwilliamsbridge, bronx, new yor\nwilliamsburg, va\nwilliamstown, vt\nwilmington, de\nwilmington, delaware\nwilmington, nc\nwiltshire\nwindsor,ontario\nwinnipeg\nwinnipeg, manitoba\nwinnipeg, mb, canada\nwinston salem, north carolina\nwinston-salem north carolina\nwinston-salem, nc\nwinter park, colorado\nwisco\nwisconsin\nwisconsin, usa\nwith doflamingo\nwny\nwolmers trust school for boys \nwolverhampton\nwolverhampton/brum/jersey\nwonderlandûó ?????? ???? ??????\nwood buffalo, alberta\nwoodcreek hs, roseville, ca\nwoosley\nworcester, ma\nwordldwide\nworld\nworld news\nworld wide\nworld wide web\nworld wide!!\nworldwi$e \nworldwide\nworldwide - global\nworldwide!\nworldwide-boston\nworldwide.\nworldwideweb\nwrapped arnd hyuk's finger\nwrex\nwrigley field\nwv, love the blue and gold\nwww.aprylpooley.com\nwww.facebook.com/stuntfm\nwww.tmgcgart.com\nwww.twitch.tv/pksparkxx\nwww.youtube.com?malkavius2\nwynne, ar\nwyoming, mi (grand rapids)\nxi'an, china\nxiumin's nonexistent solos\ny(our) boyfriends legs \ny/e/l\nya motha bed\nyadkinville, nc\nyamaku academy, class 3-4\nyeezy taught me , nv\nyellowknife\nyellowknife, nt\nyewa zone\nylisse\nyobe state\nyogya berhati nyaman\nyooooooo\nyorkshire\n\nyou're not 19 forever   \nyoungstown, oh\nyour conversation\nyour notifications\nyour screen\nyour sister's bedroom\nyour six\nyoutube.com/channel/uchwtlc9b4zjugh7ydlb55iw\nyuba city, ca\nyulee, fl\nyuuko-san's shop\nzac newsome loves me\nzboyer@washingtontimes.com\nzeerust, south africa\nzero branco\nziam af \nzimbabwe\n{detailed}\n{got | modern au | lizz}\n| ca û¢ ga  |\n|-/\n|| c h i c a g o ||\nêwagger!ìominicanì÷\nû¢ views from the six û¢\nû¢5û¢12û¢14û¢ | åè#savioursquadåç\nû¢901û¢\nû¢flgû¢\nû¢iii.xii.mmxiû¢\nû¢oldercandybloomû¢\nûêûêûê\nå_: ?? ìñ ? : ?\nå_å_los mina cityã¢\nå¡å¡midwest û¢û¢\nåê(?û¢`?û¢å«)??\nåø\\_(?)_/åø\nìït: -26.695807,27.837865\nìït: 0.0,0.0\nìït: 1.50225,103.742992\nìït: 10.614817868480726,12.195582811791382\nìït: 19.123127,72.825133\nìït: 27.9136024,-81.6078532\nìït: 30.307558,-81.403118\nìït: 33.209923,-87.545328\nìït: 35.223347,-80.827834\nìït: 36.142163,-95.979189\nìït: 39.982988,-75.261624\nìït: 40.562796,-75.488849\nìït: 40.707762,-74.014213\nìït: 41.252426,-96.072013\nìït: 42.910975,-78.865828\nìït: 43.631838,-79.55807\nìït: 6.4682,3.18287\nìït: 6.488400524109015,3.352798039832285\nìøåàå_t: 40.736324,-73.990062\n"
    }
   ],
   "source": [
    "for loc in loc_group.groups.keys():\n",
    "    print(loc)"
   ]
  },
  {
   "cell_type": "code",
   "execution_count": 10,
   "metadata": {
    "tags": []
   },
   "outputs": [
    {
     "output_type": "stream",
     "name": "stderr",
     "text": "[nltk_data] Downloading package stopwords to\n[nltk_data]     /home/olavosamp/nltk_data...\n[nltk_data]   Unzipping corpora/stopwords.zip.\n"
    }
   ],
   "source": [
    "# Preprocess and clean text features\n",
    "nltk.download(\"stopwords\")\n",
    "stopwords_set = set(stopwords.words(\"english\"))\n",
    "stemmer = PorterStemmer()"
   ]
  },
  {
   "cell_type": "code",
   "execution_count": 18,
   "metadata": {},
   "outputs": [],
   "source": [
    "def process_text(text):\n",
    "    text = BeautifulSoup(text, \"html.parser\").get_text() # Remove HTML tags\n",
    "    text = re.sub(r\"[^a-zA-Z0-9#]\", \" \", text) # Keep only alphanumeric characters and hashtags\n",
    "    text = text.lower()\n",
    "    words = set(text.split()) # Split string into words\n",
    "    \n",
    "    # Remove stopwords\n",
    "    words = list(words - stopwords_set)\n",
    "    # words = [w for w in words if w not in stopwords.words(\"english\")]\n",
    "    \n",
    "    # Stem words with PorterStemmer\n",
    "    stemmer = PorterStemmer()\n",
    "    def stem_word(x):\n",
    "        return stemmer.stem(x)\n",
    "    words = list(map(stem_word, words))\n",
    "    \n",
    "    return words"
   ]
  },
  {
   "cell_type": "code",
   "execution_count": 21,
   "metadata": {},
   "outputs": [],
   "source": [
    "# Apply text preprocessing and BoW codification to the dataset text features\n",
    "def process_dataset(dataset, cached_path=Path(commons.dataset_path) / 'train_processed.csv'):\n",
    "    cached_path = Path(cached_path)\n",
    "    if cached_path.is_file():\n",
    "        return pd.read_csv(cached_path)\n",
    "    \n",
    "    dataset['text_proc'] = dataset['text'].apply(process_text)\n",
    "    if cached_path:\n",
    "        dataset.to_csv(cached_path)\n",
    "    return dataset"
   ]
  },
  {
   "cell_type": "code",
   "execution_count": 19,
   "metadata": {
    "tags": []
   },
   "outputs": [
    {
     "output_type": "stream",
     "name": "stdout",
     "text": "['deed', 'forgiv', '#earthquak', 'allah', 'reason', 'us', 'may']\n['rong', 'canada', 'fire', 'near', 'la', 'forest', 'sask']\n['place', 'shelter', 'notifi', 'offic', 'evacu', 'resid', 'expect', 'ask', 'order']\n['receiv', 'california', 'evacu', 'peopl', '13', '000', '#wildfir', 'order']\n['smoke', 'school', 'rubi', 'got', 'photo', 'pour', 'sent', '#wildfir', '#alaska']\n['california', 'fire', 'lake', 'counti', 'direct', 'updat', 'close', 'hwi', '#rockyfir', '#cafir', '#wildfir', 'due', '20']\n['rain', 'area', 'spring', 'street', '#flood', 'manit', 'heavi', 'flash', 'colorado', 'caus', 'flood', '#disast']\n['fire', 'see', 'top', 'hill', 'wood']\n['evacu', 'happen', 'emerg', 'build', 'street', 'across']\n['area', 'tornado', 'afraid', 'come']\n['three', 'die', 'peopl', 'far', 'heat', 'wave']\n['#flood', 'haha', 'fvck', 'gonna', 'second', 'south', 'hah', 'get', 'flood', 'live', 'tampa', 'wait']\n['#flood', 'count', 'lost', 'day', '#tampabay', '#tampa', '#rain', '18', '#florida', '19']\n['#we', '#flood', 'bago', 'myanmar', 'arriv']\n['#break', '80', 'school', 'damag', 'car', 'multi', 'crash', 'bu']\n['man']\n['love', 'fruit']\n['love', 'summer']\n['car', 'fast']\n['goooooooaaaaaal']\n['ridicul']\n"
    }
   ],
   "source": [
    "for entry in train_proc.loc[0:20, 'text']:\n",
    "    print(process_text(entry))\n"
   ]
  },
  {
   "cell_type": "code",
   "execution_count": 22,
   "metadata": {},
   "outputs": [],
   "source": [
    "train_proc = process_dataset(train_set)"
   ]
  },
  {
   "cell_type": "code",
   "execution_count": 23,
   "metadata": {
    "tags": []
   },
   "outputs": [
    {
     "output_type": "stream",
     "name": "stdout",
     "text": "['deed', 'forgiv', '#earthquak', 'allah', 'reason', 'us', 'may']\n['rong', 'canada', 'fire', 'near', 'la', 'forest', 'sask']\n['place', 'shelter', 'notifi', 'offic', 'evacu', 'resid', 'expect', 'ask', 'order']\n['receiv', 'california', 'evacu', 'peopl', '13', '000', '#wildfir', 'order']\n['smoke', 'school', 'rubi', 'got', 'photo', 'pour', 'sent', '#wildfir', '#alaska']\n['california', 'fire', 'lake', 'counti', 'direct', 'updat', 'close', 'hwi', '#rockyfir', '#cafir', '#wildfir', 'due', '20']\n['rain', 'area', 'spring', 'street', '#flood', 'manit', 'heavi', 'flash', 'colorado', 'caus', 'flood', '#disast']\n['fire', 'see', 'top', 'hill', 'wood']\n['evacu', 'happen', 'emerg', 'build', 'street', 'across']\n['area', 'tornado', 'afraid', 'come']\n['three', 'die', 'peopl', 'far', 'heat', 'wave']\n['#flood', 'haha', 'fvck', 'gonna', 'second', 'south', 'hah', 'get', 'flood', 'live', 'tampa', 'wait']\n['#flood', 'count', 'lost', 'day', '#tampabay', '#tampa', '#rain', '18', '#florida', '19']\n['#we', '#flood', 'bago', 'myanmar', 'arriv']\n['#break', '80', 'school', 'damag', 'car', 'multi', 'crash', 'bu']\n['man']\n['love', 'fruit']\n['love', 'summer']\n['car', 'fast']\n['goooooooaaaaaal']\n['ridicul']\n"
    }
   ],
   "source": [
    "for entry in train_proc.loc[0:20, 'text']:\n",
    "    print(process_text(entry))"
   ]
  },
  {
   "cell_type": "code",
   "execution_count": 47,
   "metadata": {},
   "outputs": [],
   "source": [
    "def process_location(text):\n",
    "    # print(text)\n",
    "    text = BeautifulSoup(text, \"html.parser\").get_text() # Remove HTML tags\n",
    "    text = re.sub(r\"[^a-zA-Z0-9#]\", \" \", text) # Keep only alphanumeric characters and hashtags\n",
    "    text = text.lower()\n",
    "    words = text.split() # Split string into words\n",
    "    # words = [w for w in words if w not in stopwords.words(\"english\")] # Remove stopwords\n",
    "    # words = [PorterStemmer().stem(w) for w in words] # stem\n",
    "    \n",
    "    return words"
   ]
  },
  {
   "cell_type": "code",
   "execution_count": 65,
   "metadata": {
    "tags": []
   },
   "outputs": [
    {
     "output_type": "stream",
     "name": "stdout",
     "text": "[&#39;birmingham&#39;]\n[&#39;est&#39;, &#39;september&#39;, &#39;2012&#39;, &#39;bristol&#39;]\n[&#39;africa&#39;]\n[&#39;philadelphia&#39;, &#39;pa&#39;]\n[&#39;london&#39;, &#39;uk&#39;]\n[&#39;pretoria&#39;]\n[&#39;world&#39;, &#39;wide&#39;]\n[&#39;paranaque&#39;, &#39;city&#39;]\n[&#39;live&#39;, &#39;on&#39;, &#39;webcam&#39;]\n[&#39;milky&#39;, &#39;way&#39;]\n[&#39;greensboro&#39;, &#39;north&#39;, &#39;carolina&#39;]\n[&#39;live&#39;, &#39;on&#39;, &#39;webcam&#39;]\n[&#39;england&#39;]\n[&#39;sheffield&#39;, &#39;township&#39;, &#39;ohio&#39;]\n[&#39;india&#39;]\n[&#39;barbados&#39;]\n[&#39;anaheim&#39;]\n[&#39;abuja&#39;]\n[&#39;usa&#39;]\n[&#39;south&#39;, &#39;africa&#39;]\n[&#39;sao&#39;, &#39;paulo&#39;, &#39;brazil&#39;]\n"
    }
   ],
   "source": [
    "train_not_missing = train_proc.dropna(axis=0, how='any', subset=['location']).reset_index(drop=True)\n",
    "for entry in train_not_missing.loc[0:20, 'location']:\n",
    "    print(process_location(entry))\n"
   ]
  },
  {
   "cell_type": "code",
   "execution_count": 20,
   "metadata": {},
   "outputs": [],
   "source": [
    "from sklearn.feature_extraction.text import CountVectorizer"
   ]
  },
  {
   "cell_type": "code",
   "execution_count": null,
   "metadata": {},
   "outputs": [],
   "source": [
    "vectorizer = CountVectorizer()\n",
    "vectorizer.fit_transform(train_proc['text'])"
   ]
  }
 ],
 "metadata": {
  "kernelspec": {
   "display_name": "Python 3",
   "language": "python",
   "name": "python3"
  },
  "language_info": {
   "codemirror_mode": {
    "name": "ipython",
    "version": 3
   },
   "file_extension": ".py",
   "mimetype": "text/x-python",
   "name": "python",
   "nbconvert_exporter": "python",
   "pygments_lexer": "ipython3",
   "version": "3.7.8-final"
  }
 },
 "nbformat": 4,
 "nbformat_minor": 4
}